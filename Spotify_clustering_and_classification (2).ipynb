{
  "metadata": {
    "kernelspec": {
      "name": "python3",
      "display_name": "Python 3",
      "language": "python"
    },
    "language_info": {
      "name": "python",
      "version": "3.10.13",
      "mimetype": "text/x-python",
      "codemirror_mode": {
        "name": "ipython",
        "version": 3
      },
      "pygments_lexer": "ipython3",
      "nbconvert_exporter": "python",
      "file_extension": ".py"
    },
    "kaggle": {
      "accelerator": "none",
      "dataSources": [
        {
          "sourceId": 4372070,
          "sourceType": "datasetVersion",
          "datasetId": 2570056
        }
      ],
      "dockerImageVersionId": 30664,
      "isInternetEnabled": true,
      "language": "python",
      "sourceType": "notebook",
      "isGpuEnabled": false
    },
    "colab": {
      "name": "Spotify clustering and classification",
      "provenance": []
    }
  },
  "nbformat_minor": 0,
  "nbformat": 4,
  "cells": [
    {
      "source": [
        "# IMPORTANT: RUN THIS CELL IN ORDER TO IMPORT YOUR KAGGLE DATA SOURCES,\n",
        "# THEN FEEL FREE TO DELETE THIS CELL.\n",
        "# NOTE: THIS NOTEBOOK ENVIRONMENT DIFFERS FROM KAGGLE'S PYTHON\n",
        "# ENVIRONMENT SO THERE MAY BE MISSING LIBRARIES USED BY YOUR\n",
        "# NOTEBOOK.\n",
        "import kagglehub\n",
        "maharshipandya__spotify_tracks_dataset_path = kagglehub.dataset_download('maharshipandya/-spotify-tracks-dataset')\n",
        "\n",
        "print('Data source import complete.')\n"
      ],
      "metadata": {
        "id": "W02JN5jbu7eI"
      },
      "cell_type": "code",
      "outputs": [],
      "execution_count": null
    },
    {
      "cell_type": "markdown",
      "source": [
        "### Importing Libraries"
      ],
      "metadata": {
        "id": "bmrpuXS_u7eJ"
      }
    },
    {
      "cell_type": "code",
      "source": [
        "import pandas as pd\n",
        "import matplotlib.pyplot as plt\n",
        "import seaborn as sns\n",
        "from sklearn.preprocessing import StandardScaler, LabelEncoder\n",
        "from sklearn.cluster import KMeans\n",
        "from sklearn.decomposition import PCA\n",
        "from sklearn.model_selection import train_test_split, cross_val_score\n",
        "from sklearn.ensemble import RandomForestClassifier\n",
        "from sklearn.svm import SVC\n",
        "from sklearn.metrics import classification_report\n",
        "from sklearn.neighbors import KNeighborsClassifier\n",
        "from sklearn.tree import DecisionTreeClassifier\n",
        "import pickle"
      ],
      "metadata": {
        "execution": {
          "iopub.status.busy": "2024-03-18T17:35:43.507361Z",
          "iopub.execute_input": "2024-03-18T17:35:43.507752Z",
          "iopub.status.idle": "2024-03-18T17:35:46.595466Z",
          "shell.execute_reply.started": "2024-03-18T17:35:43.507704Z",
          "shell.execute_reply": "2024-03-18T17:35:46.593997Z"
        },
        "trusted": true,
        "id": "3mct7MM9u7eJ"
      },
      "execution_count": null,
      "outputs": []
    },
    {
      "cell_type": "markdown",
      "source": [
        "### Loading dataset"
      ],
      "metadata": {
        "id": "Ea2usxZku7eJ"
      }
    },
    {
      "cell_type": "code",
      "source": [
        "import os\n",
        "for dirname, _, filenames in os.walk('/kaggle/input'):\n",
        "    for filename in filenames:\n",
        "        print(os.path.join(dirname, filename))"
      ],
      "metadata": {
        "execution": {
          "iopub.status.busy": "2024-03-18T17:36:18.710648Z",
          "iopub.execute_input": "2024-03-18T17:36:18.71174Z",
          "iopub.status.idle": "2024-03-18T17:36:18.726859Z",
          "shell.execute_reply.started": "2024-03-18T17:36:18.711679Z",
          "shell.execute_reply": "2024-03-18T17:36:18.725938Z"
        },
        "trusted": true,
        "id": "RPKyhAnBu7eK"
      },
      "execution_count": null,
      "outputs": []
    },
    {
      "cell_type": "code",
      "source": [
        "df=pd.read_csv('/kaggle/input/-spotify-tracks-dataset/dataset.csv', index_col=0) #index_col 0 to drop the extra index column"
      ],
      "metadata": {
        "execution": {
          "iopub.status.busy": "2024-03-18T17:36:37.69474Z",
          "iopub.execute_input": "2024-03-18T17:36:37.695112Z",
          "iopub.status.idle": "2024-03-18T17:36:38.47786Z",
          "shell.execute_reply.started": "2024-03-18T17:36:37.695085Z",
          "shell.execute_reply": "2024-03-18T17:36:38.476529Z"
        },
        "trusted": true,
        "id": "SUirfxzQu7eK"
      },
      "execution_count": null,
      "outputs": []
    },
    {
      "cell_type": "markdown",
      "source": [
        "### Viewing the data"
      ],
      "metadata": {
        "id": "ugH7NlGtu7eK"
      }
    },
    {
      "cell_type": "code",
      "source": [
        "df.head()"
      ],
      "metadata": {
        "id": "xaKW6kQju7eK"
      },
      "execution_count": null,
      "outputs": []
    },
    {
      "cell_type": "markdown",
      "source": [
        "### Checking summary of the data"
      ],
      "metadata": {
        "id": "EadpQGYyu7eK"
      }
    },
    {
      "cell_type": "code",
      "source": [
        "df.info()"
      ],
      "metadata": {
        "id": "xeOjvdRLu7eK"
      },
      "execution_count": null,
      "outputs": []
    },
    {
      "cell_type": "code",
      "source": [
        "df.shape #(rows, columns)"
      ],
      "metadata": {
        "id": "8_GrB2wku7eK"
      },
      "execution_count": null,
      "outputs": []
    },
    {
      "cell_type": "markdown",
      "source": [
        "### Looking for null values"
      ],
      "metadata": {
        "id": "iduAGbmKu7eK"
      }
    },
    {
      "cell_type": "code",
      "source": [
        "df[df.isnull().any(axis=1)]"
      ],
      "metadata": {
        "id": "NhBbAn67u7eL"
      },
      "execution_count": null,
      "outputs": []
    },
    {
      "cell_type": "markdown",
      "source": [
        "* Since there is only one row containing null values, I'll drop this row"
      ],
      "metadata": {
        "id": "ly4QyG3Xu7eL"
      }
    },
    {
      "cell_type": "code",
      "source": [
        "df = df.dropna(axis=0)"
      ],
      "metadata": {
        "id": "yOMRFVNRu7eL"
      },
      "execution_count": null,
      "outputs": []
    },
    {
      "cell_type": "code",
      "source": [
        "df['track_genre'].nunique() # Checking how many genres are there"
      ],
      "metadata": {
        "id": "u4z9HYSKu7eL"
      },
      "execution_count": null,
      "outputs": []
    },
    {
      "cell_type": "code",
      "source": [
        "df[\"explicit\"]=df[\"explicit\"].astype(int) #True=1 and False=0"
      ],
      "metadata": {
        "id": "pY8ysKSRu7eL"
      },
      "execution_count": null,
      "outputs": []
    },
    {
      "cell_type": "code",
      "source": [
        "df[df.duplicated()] # checking duplicate rows"
      ],
      "metadata": {
        "id": "DtKrSwXBu7eL"
      },
      "execution_count": null,
      "outputs": []
    },
    {
      "cell_type": "markdown",
      "source": [
        "### Descriptive Statistics"
      ],
      "metadata": {
        "id": "jezIJAjau7eL"
      }
    },
    {
      "cell_type": "code",
      "source": [
        "df.describe().style.background_gradient(cmap=\"Accent\") # Dark boxes denote very high values"
      ],
      "metadata": {
        "id": "ANq4DI77u7eL"
      },
      "execution_count": null,
      "outputs": []
    },
    {
      "cell_type": "markdown",
      "source": [
        "### Correlation Analysis"
      ],
      "metadata": {
        "id": "0-o4UEHPu7eL"
      }
    },
    {
      "cell_type": "code",
      "source": [
        "# Including numerical colmumns\n",
        "corr_mat = df.select_dtypes(include=[\"int\", \"float\"]).corr()\n",
        "\n",
        "# Adjusting figure visuals\n",
        "plt.figure(figsize=(12, 10), facecolor='#F2EAC5', edgecolor='black')\n",
        "ax = plt.axes()\n",
        "ax.set_facecolor('#F2EAC5')\n",
        "sns.heatmap(corr_mat, annot=True, cmap='coolwarm', linewidths=0.5, annot_kws={\"size\": 10})\n",
        "plt.title('Correlation Analysis')\n",
        "plt.show()"
      ],
      "metadata": {
        "id": "AzoHWa8cu7eM"
      },
      "execution_count": null,
      "outputs": []
    },
    {
      "cell_type": "markdown",
      "source": [
        "#### Observations:\n",
        "\n",
        "* There is a strong positive correlation between \"loudness\" and \"energy\".\n",
        "\n",
        "* There is a strong negative correlation between \"acousticness\" and \"energy\".\n",
        "\n",
        "* There is a strong negative correlation between \"acousticness\" and \"loudness\".\n",
        "\n",
        "* There is a negative correlation between \"instrumentalness\" and \"loudness\".\n",
        "\n",
        "* There is a weak positive correlation between \"valence\" (positiveness) and \"danceability\".\n",
        "\n",
        "* There is a weak positive correlation between \"speechiness\" and \"explicit\"."
      ],
      "metadata": {
        "id": "I-9s0Ynmu7eM"
      }
    },
    {
      "cell_type": "markdown",
      "source": [
        "### Selecting Numerical columns for further analysis"
      ],
      "metadata": {
        "id": "U3XhImYru7eM"
      }
    },
    {
      "cell_type": "code",
      "source": [
        "num_cols = df[df.columns[(df.dtypes == 'float64') | (df.dtypes == 'int64')]]\n",
        "num_cols.shape"
      ],
      "metadata": {
        "id": "S_lpku-Gu7eM"
      },
      "execution_count": null,
      "outputs": []
    },
    {
      "cell_type": "code",
      "source": [
        "num_cols.info()"
      ],
      "metadata": {
        "id": "cNb4CSUFu7eM"
      },
      "execution_count": null,
      "outputs": []
    },
    {
      "cell_type": "markdown",
      "source": [
        "### Checking distribution of numerical columns"
      ],
      "metadata": {
        "id": "Zp3HLeXku7eM"
      }
    },
    {
      "cell_type": "code",
      "source": [
        "sns.set_style('darkgrid')\n",
        "sns.set(rc={\"axes.facecolor\":\"#F2EAC5\",\"figure.facecolor\":\"#F2EAC5\"})\n",
        "num_cols.hist(figsize=(20,15), bins=30, xlabelsize=8, ylabelsize=8)\n",
        "plt.tight_layout()\n",
        "plt.show()"
      ],
      "metadata": {
        "id": "4xP0zbDRu7eM"
      },
      "execution_count": null,
      "outputs": []
    },
    {
      "cell_type": "markdown",
      "source": [
        "#### Observations:\n",
        "* The distributions in the columns danceability, tempo, and valence are almost normal.\n",
        "\n",
        "* The loudness column has a skew to the left, with the majority of the tracks having noise levels between -15 and -5 dB.\n",
        "\n",
        "* Songs with low values appear in the right-skewed distributions of the speechiness, acousticness, instrumentalness, and liveness columns.\n",
        "\n",
        "* A large number of songs have a popularity score of 0, while the other songs are mostly within the normal range.\n",
        "\n",
        "* The duration_ms column displays a distribution that is biased to the right; the longest song is around 5 million ms (83 minutes) long, while the majority of songs last less than 500,000 ms (8 minutes).\n",
        "\n",
        "* Songs mostly with values between 0.4 and 0.9 make up the growing distribution of the energy column, which runs from 0 to 1.\n",
        "\n",
        "* The values in the key column are evenly distributed and range from 0 to 11.\n",
        "\n",
        "* Most songs have a \"mode\" value of 1.\n",
        "\n",
        "* The most common \"time_signature\" value is 5.\n",
        "\n",
        "* The values in columns like \"danceability\", \"energy\", \"speechiness\", etc. range from 0 to 1."
      ],
      "metadata": {
        "id": "S42yCqVeu7eM"
      }
    },
    {
      "cell_type": "markdown",
      "source": [
        "## Business problem\n",
        "Enhance user engagement and minimize churn on a streaming service by refining party music recommendations. Develop a predictive model using genre aggregation and clustering for precise music suggestions and playlists. Better recommendations aim to boost user satisfaction, increase time spent on the platform, and foster user loyalty through improved personalization and relevance."
      ],
      "metadata": {
        "id": "nPveh08Cu7eM"
      }
    },
    {
      "cell_type": "code",
      "source": [
        "# Select and scale the relevant features\n",
        "features = df[['danceability','energy', 'loudness', 'valence', 'tempo']] # features selected by refering correlation matrix\n",
        "scaler = StandardScaler()\n",
        "scaled_features = scaler.fit_transform(features)"
      ],
      "metadata": {
        "id": "epCvfgfwu7eM"
      },
      "execution_count": null,
      "outputs": []
    },
    {
      "cell_type": "code",
      "source": [
        "df['track_genre'].unique()"
      ],
      "metadata": {
        "id": "17Omilncu7eN"
      },
      "execution_count": null,
      "outputs": []
    },
    {
      "cell_type": "code",
      "source": [
        "# Genre to category mapping for playlist creation\n",
        "genre_to_category = {\n",
        "    # EDM\n",
        "    'edm': 'Electronic Dance Music',\n",
        "    'house': 'Electronic Dance Music',\n",
        "    'electro': 'Electronic Dance Music',\n",
        "    'trance': 'Electronic Dance Music',\n",
        "    'techno': 'Electronic Dance Music',\n",
        "    'dubstep': 'Electronic Dance Music',\n",
        "    'drum-and-bass': 'Electronic Dance Music',\n",
        "    'deep-house': 'Electronic Dance Music',\n",
        "    'detroit-techno': 'Electronic Dance Music',\n",
        "    'minimal-techno': 'Electronic Dance Music',\n",
        "    'progressive-house': 'Electronic Dance Music',\n",
        "    'breakbeat': 'Electronic Dance Music',\n",
        "\n",
        "    # Rock\n",
        "    'alt-rock': 'Rock',\n",
        "    'rock': 'Rock',\n",
        "    'indie': 'Rock',\n",
        "    'indie-pop': 'Rock',\n",
        "    'punk': 'Rock',\n",
        "    'punk-rock': 'Rock',\n",
        "    'hard-rock': 'Rock',\n",
        "    'metal': 'Rock',\n",
        "    'heavy-metal': 'Rock',\n",
        "    'black-metal': 'Rock',\n",
        "    'death-metal': 'Rock',\n",
        "    'grunge': 'Rock',\n",
        "\n",
        "    # Hip-Hop and R&B\n",
        "    'hip-hop': 'Hip-Hop and R&B',\n",
        "    'r-n-b': 'Hip-Hop and R&B',\n",
        "    'trap': 'Hip-Hop and R&B',\n",
        "\n",
        "    # Pop\n",
        "    'pop': 'Pop',\n",
        "    'electro-pop': 'Pop',\n",
        "    'synth-pop': 'Pop',\n",
        "    'k-pop': 'Pop',\n",
        "    'pop-film': 'Pop',\n",
        "    'power-pop': 'Pop',\n",
        "\n",
        "    # Latin & Reggae/Dancehall\n",
        "    'latin': 'Latin & Reggae/Dancehall',\n",
        "    'reggaeton': 'Latin & Reggae/Dancehall',\n",
        "    'salsa': 'Latin & Reggae/Dancehall',\n",
        "    'samba': 'Latin & Reggae/Dancehall',\n",
        "    'reggae': 'Latin & Reggae/Dancehall',\n",
        "    'dancehall': 'Latin & Reggae/Dancehall',\n",
        "\n",
        "    # Funk and Disco\n",
        "    'funk': 'Funk and Disco',\n",
        "    'disco': 'Funk and Disco',\n",
        "    'groove': 'Funk and Disco',\n",
        "}\n",
        "\n",
        "# Map each track to a category\n",
        "df['music_category'] = df['track_genre'].apply(lambda x: genre_to_category.get(x, 'Other'))"
      ],
      "metadata": {
        "id": "TsVVA6Aiu7eN"
      },
      "execution_count": null,
      "outputs": []
    },
    {
      "cell_type": "code",
      "source": [
        "df.info()"
      ],
      "metadata": {
        "id": "oaNbfxc7u7eN"
      },
      "execution_count": null,
      "outputs": []
    },
    {
      "cell_type": "code",
      "source": [
        "df.sample(5)"
      ],
      "metadata": {
        "id": "wcsFqxgEu7eN"
      },
      "execution_count": null,
      "outputs": []
    },
    {
      "cell_type": "code",
      "source": [
        "#music categories for different playlists\n",
        "df['music_category'].unique()"
      ],
      "metadata": {
        "id": "qgwRI2pfu7eN"
      },
      "execution_count": null,
      "outputs": []
    },
    {
      "cell_type": "code",
      "source": [
        "#Clustering songs in different playlists\n",
        "\n",
        "kmeans = KMeans(n_clusters=7, random_state=48)\n",
        "df['cluster'] = kmeans.fit_predict(scaled_features)"
      ],
      "metadata": {
        "id": "m2ND_Oshu7eN"
      },
      "execution_count": null,
      "outputs": []
    },
    {
      "cell_type": "code",
      "source": [
        "#PCA for visualisation\n",
        "pca = PCA(n_components=2)\n",
        "reduced_features = pca.fit_transform(scaled_features)"
      ],
      "metadata": {
        "id": "NBk5ca66u7eN"
      },
      "execution_count": null,
      "outputs": []
    },
    {
      "cell_type": "code",
      "source": [
        "# Create a scatter plot\n",
        "plt.figure(figsize=(8, 6))\n",
        "colors = ['r', 'g', 'b', 'y', 'c', 'm', 'k']  # Colors for the clusters\n",
        "\n",
        "# Plot each cluster\n",
        "for i in range(7):\n",
        "\n",
        "    idx = df['cluster'] == i\n",
        "    plt.scatter(reduced_features[idx, 0], reduced_features[idx, 1], c=colors[i], label=f'Cluster {i}')\n",
        "\n",
        "# Adjust visuals\n",
        "plt.title('Clusters visualization with PCA')\n",
        "plt.xlabel('PCA 1')\n",
        "plt.ylabel('PCA 2')\n",
        "plt.legend()\n",
        "plt.grid(True)\n",
        "plt.show()"
      ],
      "metadata": {
        "id": "rYsMR2Gwu7eN"
      },
      "execution_count": null,
      "outputs": []
    },
    {
      "cell_type": "markdown",
      "source": [
        "The scatter plot visualizes clusters formed by grouping similar music genres based on audio features, reduced to two dimensions using PCA. The data is segmented into seven clusters, each representing genres with shared characteristics. The plot shows tight clustering and some overlap, indicating that while there are distinct groupings, some genres share traits across clusters. Outliers suggest unique tracks that don't closely align with others in their group"
      ],
      "metadata": {
        "id": "uk3ttDfiu7eQ"
      }
    },
    {
      "cell_type": "code",
      "source": [
        "mood_labels = ['Other', 'Rock', 'Electronic Dance Music',\n",
        "       'Latin & Reggae/Dancehall', 'Funk and Disco', 'Hip-Hop and R&B',\n",
        "       'Pop']\n",
        "df['music_category'] = df['cluster'].apply(lambda x: mood_labels[x])"
      ],
      "metadata": {
        "id": "cVFa1021u7eR"
      },
      "execution_count": null,
      "outputs": []
    },
    {
      "cell_type": "code",
      "source": [
        "df['music_category'].value_counts() # check clusters"
      ],
      "metadata": {
        "id": "Ysj6pmUHu7eR"
      },
      "execution_count": null,
      "outputs": []
    },
    {
      "cell_type": "code",
      "source": [
        "df['cluster'].value_counts()"
      ],
      "metadata": {
        "id": "-zSvZif1u7eR"
      },
      "execution_count": null,
      "outputs": []
    },
    {
      "cell_type": "code",
      "source": [
        "df.sample(5)"
      ],
      "metadata": {
        "id": "Oc2qaQUsu7eR"
      },
      "execution_count": null,
      "outputs": []
    },
    {
      "cell_type": "code",
      "source": [
        "df.to_csv('spotify_with_categories.csv', index=False) #saving new file with added columns"
      ],
      "metadata": {
        "id": "VwRdFR6Lu7eR"
      },
      "execution_count": null,
      "outputs": []
    },
    {
      "cell_type": "markdown",
      "source": [
        "### Classification Model creation"
      ],
      "metadata": {
        "id": "Yl9ZKj0Ru7eR"
      }
    },
    {
      "cell_type": "code",
      "source": [
        "# Select features and target variable\n",
        "X = num_cols\n",
        "y = df['music_category']\n",
        "\n",
        "# Encode the target variable\n",
        "label_encoder = LabelEncoder()\n",
        "y_encoded = label_encoder.fit_transform(y)\n",
        "\n",
        "# Normalize the feature set\n",
        "scaler = StandardScaler()\n",
        "X_scaled = scaler.fit_transform(X)"
      ],
      "metadata": {
        "id": "0hEOdxuwu7eR"
      },
      "execution_count": null,
      "outputs": []
    },
    {
      "cell_type": "code",
      "source": [
        "# Split the data into training and testing sets\n",
        "X_train, X_test, y_train, y_test = train_test_split(X_scaled, y_encoded, test_size=0.4, random_state=0)\n",
        "\n",
        "# Define the models\n",
        "models = {\n",
        "    'Random Forest': RandomForestClassifier(random_state=0),\n",
        "    'SVM': SVC(random_state=0),\n",
        "    'K-Nearest Neighbors': KNeighborsClassifier(),\n",
        "    'Decision Tree': DecisionTreeClassifier(random_state=0),\n",
        "}\n",
        "\n",
        "# Train and evaluate each model\n",
        "for name, model in models.items():\n",
        "    model.fit(X_train, y_train)\n",
        "    y_pred = model.predict(X_test)\n",
        "    print(f\"{name} Classification Report:\\n{classification_report(y_test, y_pred, target_names=label_encoder.classes_)}\\n\")\n",
        "\n",
        "# The Model will now classify new data into playlists"
      ],
      "metadata": {
        "id": "IWoYv3VZu7eR"
      },
      "execution_count": null,
      "outputs": []
    },
    {
      "cell_type": "markdown",
      "source": [
        "The classification reports detail the effectiveness of four machine learning algorithms in categorizing music into seven genres. Here's a streamlined interpretation:\n",
        "\n",
        "Precision gauges the accuracy of positive predictions for each genre.\n",
        "Recall measures the model's ability to identify all relevant cases per genre.\n",
        "F1-score combines precision and recall into a single metric, crucial for imbalanced datasets.\n",
        "Accuracy reflects the overall correct predictions made by the model.\n",
        "Summary of Model Performances:\n",
        "\n",
        "Random Forest: Exhibits robust classification capabilities with an overall accuracy of 97%. It consistently scores high across all genres, showing its effectiveness in distinguishing between different types of music.\n",
        "\n",
        "SVM (Support Vector Machine): Outperforms other models with the highest accuracy at 98%. Its precision, recall, and F1-scores are uniformly high, marking it as the most reliable for this dataset.\n",
        "\n",
        "K-Nearest Neighbors: Registers a lower accuracy of 86%, indicating it might be less suitable for this dataset or could benefit from hyperparameter optimization.\n",
        "\n",
        "Decision Tree: Achieves an accuracy of 95%. While strong, it slightly lags behind the Random Forest and SVM, and there might be a risk of overfitting.\n",
        "\n",
        "Considering the overall accuracy and consistency across genres, the SVM is the best-fit model for this classification task."
      ],
      "metadata": {
        "id": "0zrr9UuKu7eR"
      }
    },
    {
      "cell_type": "markdown",
      "source": [
        "#### Cross Validation"
      ],
      "metadata": {
        "id": "E2hs_LE5u7eR"
      }
    },
    {
      "cell_type": "code",
      "source": [
        "# Cross Validation to validate if the models created are good\n",
        "\n",
        "# Standardize the features\n",
        "scaler = StandardScaler()\n",
        "X_scaled = scaler.fit_transform(X)\n",
        "\n",
        "# Define the classifiers\n",
        "classifiers = {\n",
        "    'K-Nearest Neighbors': KNeighborsClassifier(),\n",
        "    'Decision Tree': DecisionTreeClassifier(random_state=0),\n",
        "    'Random Forest': RandomForestClassifier(random_state=0),\n",
        "    'SVM': SVC(random_state=0)\n",
        "}\n",
        "\n",
        "# Apply cross-validation and print the results\n",
        "for name, clf in classifiers.items():\n",
        "    scores = cross_val_score(clf, X_scaled, y, cv=5, scoring='accuracy')\n",
        "    print(f\"{name} Accuracy: {scores.mean():.2f} (+/- {scores.std() * 2:.2f})\")"
      ],
      "metadata": {
        "id": "iLKL5Qclu7eR"
      },
      "execution_count": null,
      "outputs": []
    },
    {
      "cell_type": "markdown",
      "source": [
        "The output presents the accuracy scores of four machine learning models along with their confidence intervals:\n",
        "\n",
        "K-Nearest Neighbors: This model has an average accuracy of 85% with a confidence interval of plus or minus 2%. This suggests that the model’s accuracy could vary slightly on different runs, reflecting moderate consistency in performance.\n",
        "\n",
        "Decision Tree: Achieves a higher average accuracy of 95% with a very narrow confidence interval of plus or minus 1%, indicating that its performance is quite stable across different training sets.\n",
        "\n",
        "Random Forest: Shows a slightly better average accuracy than the Decision Tree at 96%, with a confidence interval of plus or minus 1%. Like the Decision Tree, its performance is consistent, and being an ensemble method, it generally has better predictive accuracy and robustness.\n",
        "\n",
        "SVM (Support Vector Machine): Tops the list with the highest average accuracy of 97%, but it has a confidence interval of plus or minus 2%, which is wider than the Decision Tree and Random Forest models. Despite this, it indicates that SVM is likely to perform best in predicting the correct genre of music tracks.\n",
        "\n",
        "Considering these results, the SVM is potentially the most accurate model for this task, although it has a slightly larger variance in its accuracy. Random Forest also shows a strong and stable performance."
      ],
      "metadata": {
        "id": "THWPC0BZu7eS"
      }
    },
    {
      "cell_type": "markdown",
      "source": [
        "#### Model Comparison"
      ],
      "metadata": {
        "id": "n-LgT5C3u7eS"
      }
    },
    {
      "cell_type": "code",
      "source": [
        "model_accuracies = {\n",
        "    'Random Forest': 0.97,\n",
        "    'SVM': 0.98,\n",
        "    'K-Nearest Neighbors': 0.87,\n",
        "    'Decision Tree': 0.95\n",
        "}\n",
        "\n",
        "# Creating the comparison chart\n",
        "plt.figure(figsize=(10, 6))\n",
        "plt.bar(model_accuracies.keys(), model_accuracies.values(), color=['orange', 'green', 'red', 'purple'])\n",
        "plt.title('Comparison of Model Accuracies')\n",
        "plt.xlabel('Models')\n",
        "plt.ylabel('Accuracy')\n",
        "plt.ylim(0.8, 1.0)\n",
        "plt.show()"
      ],
      "metadata": {
        "id": "q8fHzi_7u7eS"
      },
      "execution_count": null,
      "outputs": []
    },
    {
      "cell_type": "code",
      "source": [
        "# Store models in pickle file\n",
        "\n",
        "import pickle\n",
        "\n",
        "# Assuming 'models' contains your trained models\n",
        "for name, model in models.items():\n",
        "    # Save each trained model as a pickle file\n",
        "    with open(f\"{name}_model.pkl\", 'wb') as file:\n",
        "        pickle.dump(model, file)"
      ],
      "metadata": {
        "id": "WrT0Si5Ju7eS"
      },
      "execution_count": null,
      "outputs": []
    },
    {
      "cell_type": "markdown",
      "source": [
        "Hello,\n",
        "\n",
        "This is the first time I'm putting out my work in a hope to learn more.\n",
        "I'm pursuing data analytics.\n",
        "\n",
        "I'll respect it if you can correct me on my mistakes and let me know what I can do to progress in this journey.\n",
        "\n",
        "Thanks much!"
      ],
      "metadata": {
        "id": "6CqfP7VAu7eS"
      }
    },
    {
      "cell_type": "code",
      "source": [],
      "metadata": {
        "id": "JGEwuGX4u7eS"
      },
      "execution_count": null,
      "outputs": []
    }
  ]
}